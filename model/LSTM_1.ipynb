{
 "cells": [
  {
   "cell_type": "markdown",
   "id": "eef73e43",
   "metadata": {},
   "source": [
    "## Подготовка данных"
   ]
  },
  {
   "cell_type": "code",
   "execution_count": 9,
   "id": "465645cf",
   "metadata": {},
   "outputs": [],
   "source": [
    "import numpy as np\n",
    "import torch\n",
    "\n",
    "# !git clone https://github.com/dariush-bahrami/character-tokenizer.git\n",
    "import string\n",
    "import sys\n",
    "from charactertokenizer import CharacterTokenizer\n",
    "\n",
    "from torch.utils.data import TensorDataset, random_split\n",
    "from tqdm import tqdm_notebook"
   ]
  },
  {
   "cell_type": "code",
   "execution_count": 10,
   "id": "147ded4d",
   "metadata": {},
   "outputs": [],
   "source": [
    "# Читаю весь файл\n",
    "filename = \"all_data.txt\"\n",
    "with open(filename, 'r', encoding='utf-8') as data:\n",
    "    raw_text = data.read()"
   ]
  },
  {
   "cell_type": "code",
   "execution_count": 11,
   "id": "85e07313",
   "metadata": {
    "scrolled": false
   },
   "outputs": [
    {
     "name": "stdout",
     "output_type": "stream",
     "text": [
      "253371\n"
     ]
    }
   ],
   "source": [
    "# Оставляю только анекдоты\n",
    "samples = [item.strip().split('|1|-|')[-1].replace('|', '').replace('\\\"', '') for item in raw_text.split('</s>')][1:]\n",
    "samples[:3]\n",
    "\n",
    "print(len(samples))"
   ]
  },
  {
   "cell_type": "code",
   "execution_count": 12,
   "id": "04600564",
   "metadata": {},
   "outputs": [],
   "source": [
    "# В качестве словаря беру все уникальные символы в тексте\n",
    "values, counts = np.unique(list(raw_text), return_counts=True)\n",
    "chars = ''.join(values[np.argsort(-counts)])\n",
    "# chars = 'абвгдеёжзийклмнопрстуфхцчшщъыьэюя ' \n",
    "model_max_length = 512\n",
    "tokenizer = CharacterTokenizer(chars, model_max_length, padding_size='right')"
   ]
  },
  {
   "cell_type": "code",
   "execution_count": 18,
   "id": "1ad8d6d4",
   "metadata": {},
   "outputs": [],
   "source": [
    "with open('bot/tokenizer_chars.txt', 'w') as fout:\n",
    "    fout.write(chars)"
   ]
  },
  {
   "cell_type": "code",
   "execution_count": 6,
   "id": "e0f93067",
   "metadata": {},
   "outputs": [
    {
     "name": "stderr",
     "output_type": "stream",
     "text": [
      "Token indices sequence length is longer than the specified maximum sequence length for this model (564 > 512). Running this sequence through the model will result in indexing errors\n"
     ]
    },
    {
     "name": "stdout",
     "output_type": "stream",
     "text": [
      "Max sentence length:  5187\n"
     ]
    }
   ],
   "source": [
    "# Нахожу наибольшую длину при токенизации предложения\n",
    "\n",
    "max_len = 0\n",
    "\n",
    "for sent in samples:\n",
    "    input_ids = tokenizer.encode(sent, add_special_tokens=True)\n",
    "    max_len = max(max_len, len(input_ids))\n",
    "\n",
    "print('Max sentence length: ', max_len)"
   ]
  },
  {
   "cell_type": "code",
   "execution_count": 8,
   "id": "c0554156",
   "metadata": {},
   "outputs": [
    {
     "data": {
      "text/plain": [
       "(array([2.47052e+05, 5.79300e+03, 4.18000e+02, 6.50000e+01, 1.70000e+01,\n",
       "        1.50000e+01, 3.00000e+00, 6.00000e+00, 1.00000e+00, 1.00000e+00]),\n",
       " array([   0. ,  518.5, 1037. , 1555.5, 2074. , 2592.5, 3111. , 3629.5,\n",
       "        4148. , 4666.5, 5185. ]),\n",
       " <BarContainer object of 10 artists>)"
      ]
     },
     "execution_count": 8,
     "metadata": {},
     "output_type": "execute_result"
    },
    {
     "data": {
      "image/png": "[encoded data removed]",
      "text/plain": [
       "<Figure size 640x480 with 1 Axes>"
      ]
     },
     "metadata": {},
     "output_type": "display_data"
    }
   ],
   "source": [
    "import matplotlib.pyplot as plt\n",
    "\n",
    "# Но, так как практически все анекдоты вмещаются в 512 токенов, больше не беру\n",
    "\n",
    "plt.hist([len(x) for x in samples])"
   ]
  },
  {
   "cell_type": "code",
   "execution_count": 7,
   "id": "65c8a671",
   "metadata": {
    "scrolled": true
   },
   "outputs": [
    {
     "name": "stderr",
     "output_type": "stream",
     "text": [
      "/tmp/ipykernel_524464/2345703385.py:5: TqdmDeprecationWarning: This function will be removed in tqdm==5.0.0\n",
      "Please use `tqdm.notebook.tqdm` instead of `tqdm.tqdm_notebook`\n",
      "  for sent in tqdm_notebook(samples):\n"
     ]
    },
    {
     "data": {
      "application/vnd.jupyter.widget-view+json": {
       "model_id": "45cc93a2113845929a88fd8ace3706fb",
       "version_major": 2,
       "version_minor": 0
      },
      "text/plain": [
       "  0%|          | 0/253371 [00:00<?, ?it/s]"
      ]
     },
     "metadata": {},
     "output_type": "display_data"
    },
    {
     "name": "stderr",
     "output_type": "stream",
     "text": [
      "Truncation was not explicitly activated but `max_length` is provided a specific value, please use `truncation=True` to explicitly truncate examples to max length. Defaulting to 'longest_first' truncation strategy. If you encode pairs of sequences (GLUE-style) with the tokenizer you can select this strategy more precisely by providing a specific strategy to `truncation`.\n",
      "/home/boris/anaconda3/lib/python3.9/site-packages/transformers/tokenization_utils_base.py:2364: FutureWarning: The `pad_to_max_length` argument is deprecated and will be removed in a future version, use `padding=True` or `padding='longest'` to pad to the longest sequence in the batch, or use `padding='max_length'` to pad to a max length. In this case, you can give a specific length with `max_length` (e.g. `max_length=45`) or leave max_length to None to pad to the maximal input size of the model (e.g. 512 for Bert).\n",
      "  warnings.warn(\n"
     ]
    },
    {
     "name": "stdout",
     "output_type": "stream",
     "text": [
      "Original:  Друзья мои, чтобы соответствовать вам, я готов сделать над собой усилие и стать лучше. Но тогда и вы станьте немного хуже!\n",
      "Token IDs: tensor([ 0, 62, 15, 22, 34, 24, 26,  7, 23,  8, 11, 36,  7, 31, 12,  8, 30, 29,\n",
      "         7, 14,  8,  8, 12, 18, 10, 12, 14, 12, 18,  8, 18,  9, 12, 24,  7, 18,\n",
      "         9, 23, 36,  7, 26,  7, 32,  8, 12,  8, 18,  7, 14, 20, 10, 19,  9, 12,\n",
      "        24,  7, 13,  9, 20,  7, 14,  8, 30,  8, 48,  7, 22, 14, 11, 19, 11, 10,\n",
      "         7, 11,  7, 14, 12,  9, 12, 24,  7, 19, 22, 31, 38, 10, 28,  7, 56,  8,\n",
      "         7, 12,  8, 32, 20,  9,  7, 11,  7, 18, 29,  7, 14, 12,  9, 13, 24, 12,\n",
      "        10,  7, 13, 10, 23, 13,  8, 32,  8,  7, 43, 22, 27, 10, 49,  1,  4,  4,\n",
      "         4,  4,  4,  4,  4,  4,  4,  4,  4,  4,  4,  4,  4,  4,  4,  4,  4,  4,\n",
      "         4,  4,  4,  4,  4,  4,  4,  4,  4,  4,  4,  4,  4,  4,  4,  4,  4,  4,\n",
      "         4,  4,  4,  4,  4,  4,  4,  4,  4,  4,  4,  4,  4,  4,  4,  4,  4,  4,\n",
      "         4,  4,  4,  4,  4,  4,  4,  4,  4,  4,  4,  4,  4,  4,  4,  4,  4,  4,\n",
      "         4,  4,  4,  4,  4,  4,  4,  4,  4,  4,  4,  4,  4,  4,  4,  4,  4,  4,\n",
      "         4,  4,  4,  4,  4,  4,  4,  4,  4,  4,  4,  4,  4,  4,  4,  4,  4,  4,\n",
      "         4,  4,  4,  4,  4,  4,  4,  4,  4,  4,  4,  4,  4,  4,  4,  4,  4,  4,\n",
      "         4,  4,  4,  4,  4,  4,  4,  4,  4,  4,  4,  4,  4,  4,  4,  4,  4,  4,\n",
      "         4,  4,  4,  4,  4,  4,  4,  4,  4,  4,  4,  4,  4,  4,  4,  4,  4,  4,\n",
      "         4,  4,  4,  4,  4,  4,  4,  4,  4,  4,  4,  4,  4,  4,  4,  4,  4,  4,\n",
      "         4,  4,  4,  4,  4,  4,  4,  4,  4,  4,  4,  4,  4,  4,  4,  4,  4,  4,\n",
      "         4,  4,  4,  4,  4,  4,  4,  4,  4,  4,  4,  4,  4,  4,  4,  4,  4,  4,\n",
      "         4,  4,  4,  4,  4,  4,  4,  4,  4,  4,  4,  4,  4,  4,  4,  4,  4,  4,\n",
      "         4,  4,  4,  4,  4,  4,  4,  4,  4,  4,  4,  4,  4,  4,  4,  4,  4,  4,\n",
      "         4,  4,  4,  4,  4,  4,  4,  4,  4,  4,  4,  4,  4,  4,  4,  4,  4,  4,\n",
      "         4,  4,  4,  4,  4,  4,  4,  4,  4,  4,  4,  4,  4,  4,  4,  4,  4,  4,\n",
      "         4,  4,  4,  4,  4,  4,  4,  4,  4,  4,  4,  4,  4,  4,  4,  4,  4,  4,\n",
      "         4,  4,  4,  4,  4,  4,  4,  4,  4,  4,  4,  4,  4,  4,  4,  4,  4,  4,\n",
      "         4,  4,  4,  4,  4,  4,  4,  4,  4,  4,  4,  4,  4,  4,  4,  4,  4,  4,\n",
      "         4,  4,  4,  4,  4,  4,  4,  4,  4,  4,  4,  4,  4,  4,  4,  4,  4,  4,\n",
      "         4,  4,  4,  4,  4,  4,  4,  4,  4,  4,  4,  4,  4,  4,  4,  4,  4,  4,\n",
      "         4,  4,  4,  4,  4,  4,  4,  4])\n"
     ]
    }
   ],
   "source": [
    "# Перевожу все в токены\n",
    "input_ids = []\n",
    "attention_masks = []\n",
    "MAX_LENGTH = 512\n",
    "for sent in tqdm_notebook(samples):\n",
    "    encoded_dict = tokenizer.encode_plus(\n",
    "                        sent,                      # Sentence to encode.\n",
    "                        add_special_tokens = True, # Add '[CLS]' and '[SEP]'\n",
    "                        max_length = MAX_LENGTH,           # Pad & truncate all sentences.\n",
    "                        pad_to_max_length = True,\n",
    "                        return_attention_mask = True,   # Construct attn. masks.\n",
    "                        return_tensors = 'pt',     # Return pytorch tensors.\n",
    "                   )\n",
    "    \n",
    "    input_ids.append(encoded_dict['input_ids'])\n",
    "    attention_masks.append(encoded_dict['attention_mask'])\n",
    "\n",
    "input_ids = torch.cat(input_ids, dim=0)\n",
    "attention_masks = torch.cat(attention_masks, dim=0)\n",
    "# labels = torch.tensor(samples)\n",
    "\n",
    "print('Original: ', samples[0])\n",
    "print('Token IDs:', input_ids[0])"
   ]
  },
  {
   "cell_type": "code",
   "execution_count": 70,
   "id": "dd70e638",
   "metadata": {
    "scrolled": true
   },
   "outputs": [
    {
     "name": "stderr",
     "output_type": "stream",
     "text": [
      "/tmp/ipykernel_524464/632983569.py:7: TqdmDeprecationWarning: This function will be removed in tqdm==5.0.0\n",
      "Please use `tqdm.notebook.tqdm` instead of `tqdm.tqdm_notebook`\n",
      "  for sample in tqdm_notebook(input_ids):\n"
     ]
    },
    {
     "data": {
      "application/vnd.jupyter.widget-view+json": {
       "model_id": "f4177a67b88b4652ae133cd243bed92a",
       "version_major": 2,
       "version_minor": 0
      },
      "text/plain": [
       "  0%|          | 0/253371 [00:00<?, ?it/s]"
      ]
     },
     "metadata": {},
     "output_type": "display_data"
    },
    {
     "name": "stdout",
     "output_type": "stream",
     "text": [
      "5918456 5918456\n"
     ]
    }
   ],
   "source": [
    "# Разбиваю на семплы длины seq_length\n",
    "\n",
    "seq_length = 30\n",
    "dataX = []\n",
    "dataY = []\n",
    "    \n",
    "for sample in tqdm_notebook(input_ids):\n",
    "    \n",
    "    n_chars = len(sample)\n",
    "#     n_vocab = len(chars)\n",
    "\n",
    "    for i in range(0, n_chars - seq_length, 5):\n",
    "        seq_in = sample[i:i + seq_length]\n",
    "        seq_out = sample[i + seq_length]\n",
    "        dataX.append(seq_in)\n",
    "        dataY.append(seq_out)\n",
    "        \n",
    "        # Конец предложения, дальше нам не надо\n",
    "        if seq_out == 1 or seq_out == 4:\n",
    "            break\n",
    "\n",
    "X = torch.stack(dataX)\n",
    "# to 0-1\n",
    "X = X / float(tokenizer.vocab_size)\n",
    "y = torch.tensor(dataY)\n",
    "\n",
    "print(len(X), len(y))"
   ]
  },
  {
   "cell_type": "code",
   "execution_count": 71,
   "id": "dd083246",
   "metadata": {},
   "outputs": [
    {
     "name": "stdout",
     "output_type": "stream",
     "text": [
      "5,622,533 training samples\n",
      "295,923 validation samples\n"
     ]
    }
   ],
   "source": [
    "# Тестовая и валидационная выборки\n",
    "\n",
    "dataset = TensorDataset(X, y)\n",
    "\n",
    "train_size = int(0.95 * len(dataset))\n",
    "val_size = len(dataset) - train_size\n",
    "\n",
    "train_dataset, val_dataset = random_split(dataset, [train_size, val_size])\n",
    "\n",
    "print('{:>5,} training samples'.format(train_size))\n",
    "print('{:>5,} validation samples'.format(val_size))"
   ]
  },
  {
   "cell_type": "code",
   "execution_count": 73,
   "id": "93709d65",
   "metadata": {},
   "outputs": [],
   "source": [
    "import os\n",
    "from torch import optim, nn, utils, Tensor\n",
    "from torchvision.transforms import ToTensor\n",
    "import lightning.pytorch as pl\n",
    "import torch.nn as nn\n",
    "from transformers import BertModel\n",
    "\n",
    "\n",
    "# Класс модели (через лайтнинг!)\n",
    "# LSTM 3 слоя размера 1024 -> два линейных слоя \n",
    "\n",
    "class LSTM(pl.LightningModule):\n",
    "    def __init__(self, n_vocab):\n",
    "        super().__init__()        \n",
    "        self.lstm = nn.LSTM(input_size=1, hidden_size=1024, num_layers=3, batch_first=True, dropout=0.2)\n",
    "        self.dropout = nn.Dropout(0.2)\n",
    "        self.linear_1 = nn.Linear(1024, 512)\n",
    "        self.relu = nn.ELU()\n",
    "        self.linear_2 = nn.Linear(512, n_vocab)\n",
    "        \n",
    "        self.loss_fn = nn.CrossEntropyLoss()\n",
    "\n",
    "    def training_step(self, batch, batch_idx):\n",
    "        x, y = batch\n",
    "        x = self.forward(x)\n",
    "        \n",
    "        loss = self.loss_fn(x, y)\n",
    "        self.log(\"train_loss\", loss, prog_bar=True, on_step=False, on_epoch=True)\n",
    "        return loss\n",
    "        \n",
    "    def validation_step(self, batch, batch_idx):\n",
    "        x, y = batch\n",
    "        x = self.forward(x)\n",
    "        \n",
    "        loss = self.loss_fn(x, y)\n",
    "        self.log(\"val_loss\", loss, prog_bar=True, on_step=False, on_epoch=True)\n",
    "        \n",
    "    def forward(self, x):\n",
    "        x = x.float().unsqueeze(-1)\n",
    "        x, _ = self.lstm(x)\n",
    "        x = x[:, -1, :]\n",
    "        x = self.linear_1(self.dropout(x))\n",
    "        x = self.linear_2(self.relu(self.dropout(x)))\n",
    "        return x\n",
    "\n",
    "    def configure_optimizers(self):\n",
    "        optimizer = optim.Adam(self.parameters(), lr=2e-4)\n",
    "        return optimizer\n",
    "\n",
    "lstm = LSTM(tokenizer.vocab_size)"
   ]
  },
  {
   "cell_type": "code",
   "execution_count": 74,
   "id": "24eb8e69",
   "metadata": {},
   "outputs": [],
   "source": [
    "# Даталоадеры батч сайз 128\n",
    "\n",
    "train_loader = utils.data.DataLoader(train_dataset, batch_size=128, num_workers=12)\n",
    "val_loader = utils.data.DataLoader(val_dataset, batch_size=128, num_workers=12)"
   ]
  },
  {
   "cell_type": "code",
   "execution_count": 75,
   "id": "dd9b1652",
   "metadata": {},
   "outputs": [],
   "source": [
    "from lightning.pytorch.callbacks import ModelCheckpoint\n",
    "from lightning.pytorch.loggers import TensorBoardLogger\n",
    "\n",
    "# Логи и сохранение\n",
    "\n",
    "logger = TensorBoardLogger(\"tb_logs\", name=f\"lstm_data:{filename}_seq_length:{seq_length}\")\n",
    "checkpoint_callback = ModelCheckpoint(dirpath=\"models/\", save_top_k=2, monitor=\"val_loss\")"
   ]
  },
  {
   "cell_type": "code",
   "execution_count": 78,
   "id": "29fa7678",
   "metadata": {
    "scrolled": false
   },
   "outputs": [
    {
     "name": "stderr",
     "output_type": "stream",
     "text": [
      "GPU available: True (cuda), used: True\n",
      "TPU available: False, using: 0 TPU cores\n",
      "IPU available: False, using: 0 IPUs\n",
      "HPU available: False, using: 0 HPUs\n",
      "LOCAL_RANK: 0 - CUDA_VISIBLE_DEVICES: [0]\n",
      "\n",
      "  | Name     | Type             | Params\n",
      "----------------------------------------------\n",
      "0 | lstm     | LSTM             | 21.0 M\n",
      "1 | dropout  | Dropout          | 0     \n",
      "2 | linear_1 | Linear           | 524 K \n",
      "3 | relu     | ELU              | 0     \n",
      "4 | linear_2 | Linear           | 161 K \n",
      "5 | loss_fn  | CrossEntropyLoss | 0     \n",
      "----------------------------------------------\n",
      "21.7 M    Trainable params\n",
      "0         Non-trainable params\n",
      "21.7 M    Total params\n",
      "86.746    Total estimated model params size (MB)\n"
     ]
    },
    {
     "data": {
      "application/vnd.jupyter.widget-view+json": {
       "model_id": "",
       "version_major": 2,
       "version_minor": 0
      },
      "text/plain": [
       "Sanity Checking: 0it [00:00, ?it/s]"
      ]
     },
     "metadata": {},
     "output_type": "display_data"
    },
    {
     "data": {
      "application/vnd.jupyter.widget-view+json": {
       "model_id": "829f41bd103747b8a67a3416dc21edab",
       "version_major": 2,
       "version_minor": 0
      },
      "text/plain": [
       "Training: 0it [00:00, ?it/s]"
      ]
     },
     "metadata": {},
     "output_type": "display_data"
    },
    {
     "data": {
      "application/vnd.jupyter.widget-view+json": {
       "model_id": "",
       "version_major": 2,
       "version_minor": 0
      },
      "text/plain": [
       "Validation: 0it [00:00, ?it/s]"
      ]
     },
     "metadata": {},
     "output_type": "display_data"
    },
    {
     "data": {
      "application/vnd.jupyter.widget-view+json": {
       "model_id": "",
       "version_major": 2,
       "version_minor": 0
      },
      "text/plain": [
       "Validation: 0it [00:00, ?it/s]"
      ]
     },
     "metadata": {},
     "output_type": "display_data"
    },
    {
     "data": {
      "application/vnd.jupyter.widget-view+json": {
       "model_id": "",
       "version_major": 2,
       "version_minor": 0
      },
      "text/plain": [
       "Validation: 0it [00:00, ?it/s]"
      ]
     },
     "metadata": {},
     "output_type": "display_data"
    },
    {
     "data": {
      "application/vnd.jupyter.widget-view+json": {
       "model_id": "",
       "version_major": 2,
       "version_minor": 0
      },
      "text/plain": [
       "Validation: 0it [00:00, ?it/s]"
      ]
     },
     "metadata": {},
     "output_type": "display_data"
    },
    {
     "data": {
      "application/vnd.jupyter.widget-view+json": {
       "model_id": "",
       "version_major": 2,
       "version_minor": 0
      },
      "text/plain": [
       "Validation: 0it [00:00, ?it/s]"
      ]
     },
     "metadata": {},
     "output_type": "display_data"
    },
    {
     "data": {
      "application/vnd.jupyter.widget-view+json": {
       "model_id": "",
       "version_major": 2,
       "version_minor": 0
      },
      "text/plain": [
       "Validation: 0it [00:00, ?it/s]"
      ]
     },
     "metadata": {},
     "output_type": "display_data"
    },
    {
     "data": {
      "application/vnd.jupyter.widget-view+json": {
       "model_id": "",
       "version_major": 2,
       "version_minor": 0
      },
      "text/plain": [
       "Validation: 0it [00:00, ?it/s]"
      ]
     },
     "metadata": {},
     "output_type": "display_data"
    },
    {
     "data": {
      "application/vnd.jupyter.widget-view+json": {
       "model_id": "",
       "version_major": 2,
       "version_minor": 0
      },
      "text/plain": [
       "Validation: 0it [00:00, ?it/s]"
      ]
     },
     "metadata": {},
     "output_type": "display_data"
    },
    {
     "data": {
      "application/vnd.jupyter.widget-view+json": {
       "model_id": "",
       "version_major": 2,
       "version_minor": 0
      },
      "text/plain": [
       "Validation: 0it [00:00, ?it/s]"
      ]
     },
     "metadata": {},
     "output_type": "display_data"
    },
    {
     "data": {
      "application/vnd.jupyter.widget-view+json": {
       "model_id": "",
       "version_major": 2,
       "version_minor": 0
      },
      "text/plain": [
       "Validation: 0it [00:00, ?it/s]"
      ]
     },
     "metadata": {},
     "output_type": "display_data"
    }
   ],
   "source": [
    "# Учим модель\n",
    "\n",
    "trainer = pl.Trainer(max_epochs=20, callbacks=[checkpoint_callback], logger=logger)\n",
    "trainer.fit(model=lstm, train_dataloaders=train_loader, val_dataloaders=val_loader)"
   ]
  },
  {
   "cell_type": "code",
   "execution_count": 44,
   "id": "fb2b6043",
   "metadata": {},
   "outputs": [],
   "source": [
    "lstm = lstm.load_from_checkpoint(checkpoint_path=\"models/epoch=12-step=303641.ckpt\", n_vocab=tokenizer.vocab_size)\n",
    "lstm.cuda()\n",
    "pass"
   ]
  },
  {
   "cell_type": "code",
   "execution_count": 96,
   "id": "c276fa6d",
   "metadata": {},
   "outputs": [],
   "source": [
    "k = 1"
   ]
  },
  {
   "cell_type": "code",
   "execution_count": 146,
   "id": "4d5aa436",
   "metadata": {
    "scrolled": false
   },
   "outputs": [
    {
     "name": "stdout",
     "output_type": "stream",
     "text": [
      "Prompt: \"[CLS]Штирлиц\"\n",
      " поставили по произведина по поразаться на столе под кровать не смогут по полу тебе по полность в кармана по полу на просто приезжайте скорость - так и не понимаешь с ней с концерт по после получает по полу развелка на стенет на прокололная просто на столе по телефона по порого по запорожец по концарт предложенное получил свое постоянно потерял по столовой половину в трусы на половой половина в принципись на просто на столе без правильно называют на консерватор по математические с постоянно поступающих просто попала в темноту потом поставила за проблема на половина при получается смерти с пополнитель спрашивает денег на полность в прошлое после того же полезно поднимает девушка по полу не надо понятно, как ты на стол стану пришло в комнате за неделю на постоянно приехались в постели по телефонная проблемы и поставительное предложенное наступил костюм на порога на против на тебя на работает странно выблядеть.[SEP]\n"
     ]
    }
   ],
   "source": [
    "\n",
    "# Generation using the trained model\n",
    "# best_model, char_to_int = torch.load(\"single-char.pth\")\n",
    "# n_vocab = len(char_to_int)\n",
    "# int_to_char = dict((i, c) for c, i in char_to_int.items())\n",
    "# model.load_state_dict(best_model)\n",
    " \n",
    "# randomly generate a prompt\n",
    "# seq_length = 100\n",
    "# filename = \"jokes.txt\"\n",
    "# raw_text = open(filename, 'r', encoding='utf-8').read()\n",
    "# raw_text = raw_text.lower()\n",
    "# raw_text = raw_text.replace('* * *', '').replace('\\n\\n', '')\n",
    "# start = np.random.randint(0, len(raw_text)-seq_length)\n",
    "# prompt = raw_text[start:start+seq_length]\n",
    "# prompt = 'Привет'\n",
    "# pattern = [char_to_int[c] for c in prompt]\n",
    "\n",
    "softmax = nn.Softmax(dim=1)\n",
    "    \n",
    "pattern = torch.tensor(tokenizer.encode('Штирлиц'))[:-1]\n",
    "    \n",
    "lstm.eval()\n",
    "lstm.cuda()\n",
    "print('Prompt: \"%s\"' % tokenizer.decode(pattern))\n",
    "with torch.no_grad():\n",
    "    while True:\n",
    "        x = pattern / float(tokenizer.vocab_size)\n",
    "        prediction = lstm(x.unsqueeze(0).cuda().float())\n",
    "        p = softmax(prediction * k).cpu().flatten().detach().numpy()\n",
    "        index = np.random.choice(np.arange(len(prediction.flatten())), 1, p=p)\n",
    "        result = tokenizer.decode(index)\n",
    "        print(result, end=\"\")\n",
    "        if index == 1:\n",
    "            break\n",
    "        pattern = torch.concatenate((pattern.cuda(), torch.tensor(index).cuda()))\n",
    "        pattern = pattern[1:]\n",
    "print()"
   ]
  },
  {
   "cell_type": "code",
   "execution_count": 26,
   "id": "3e924fed",
   "metadata": {
    "scrolled": false
   },
   "outputs": [
    {
     "data": {
      "text/plain": [
       "Text(0.5, 1.0, 'CrossEntropyLoss for LSTM')"
      ]
     },
     "execution_count": 26,
     "metadata": {},
     "output_type": "execute_result"
    },
    {
     "data": {
      "image/png": "[encoded data removed]",
      "text/plain": [
       "<Figure size 640x480 with 1 Axes>"
      ]
     },
     "metadata": {},
     "output_type": "display_data"
    }
   ],
   "source": [
    "import pandas as pd\n",
    "import matplotlib.pyplot as plt\n",
    "\n",
    "pd.read_csv('plots/run-lstm_data_all_data.txt_seq_length_30_version_0-tag-train_loss.csv')['Value'][:12].plot(label='train_small')\n",
    "pd.read_csv('plots/run-lstm_data_all_data.txt_seq_length_30_version_0-tag-val_loss.csv')['Value'][:12].plot(label='val_small')\n",
    "pd.read_csv('plots/run-lstm_data_all_data.txt_seq_length_30_version_2-tag-train_loss.csv')['Value'][:12].plot(label='train_big')\n",
    "pd.read_csv('plots/run-lstm_data_all_data.txt_seq_length_30_version_2-tag-val_loss.csv')['Value'][:12].plot(label='val_big')\n",
    "plt.legend()\n",
    "plt.title('CrossEntropyLoss for LSTM')"
   ]
  }
 ],
 "metadata": {
  "kernelspec": {
   "display_name": "Python 3 (ipykernel)",
   "language": "python",
   "name": "python3"
  },
  "language_info": {
   "codemirror_mode": {
    "name": "ipython",
    "version": 3
   },
   "file_extension": ".py",
   "mimetype": "text/x-python",
   "name": "python",
   "nbconvert_exporter": "python",
   "pygments_lexer": "ipython3",
   "version": "3.9.13"
  }
 },
 "nbformat": 4,
 "nbformat_minor": 5
}
